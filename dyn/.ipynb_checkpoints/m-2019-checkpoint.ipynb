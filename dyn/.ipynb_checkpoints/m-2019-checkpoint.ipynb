{
 "cells": [
  {
   "cell_type": "code",
   "execution_count": null,
   "metadata": {},
   "outputs": [],
   "source": [
    "from sympy import *\n",
    "m,k= symbols('m k')\n",
    "M = m*diag(1,1)\n",
    "M\n",
    "\n",
    "# k = 24EI/h1^3\n",
    "k1=k\n",
    "k2=8*k\n",
    "\n",
    "K=k*Matrix([[3,-1],[-1,2]])\n",
    "K\n",
    "\n",
    "A=(M**-1)*K"
   ]
  },
  {
   "cell_type": "code",
   "execution_count": 2,
   "metadata": {},
   "outputs": [
    {
     "data": {
      "text/plain": [
       "[(k*(5/2 - sqrt(5)/2)/m,\n",
       "  1,\n",
       "  [Matrix([\n",
       "   [-1/2 + sqrt(5)/2],\n",
       "   [               1]])]),\n",
       " (k*(sqrt(5)/2 + 5/2)/m,\n",
       "  1,\n",
       "  [Matrix([\n",
       "   [-sqrt(5)/2 - 1/2],\n",
       "   [               1]])])]"
      ]
     },
     "execution_count": 2,
     "metadata": {},
     "output_type": "execute_result"
    }
   ],
   "source": [
    "A.eigenvals() # natrual frequencies om^2\n",
    "\n",
    "l=A.eigenvects() #mode shapes\n",
    "om2 = diag(l[0][0],l[1][0])\n",
    "shp = Matrix.hstack(l[0][2][0],l[1][2][0])\n",
    "l"
   ]
  },
  {
   "cell_type": "code",
   "execution_count": 4,
   "metadata": {},
   "outputs": [
    {
     "data": {
      "text/latex": [
       "$\\displaystyle \\left[\\begin{matrix}0.618033988749895 & -1.61803398874989\\\\1.0 & 1.0\\end{matrix}\\right]$"
      ],
      "text/plain": [
       "Matrix([\n",
       "[0.618033988749895, -1.61803398874989],\n",
       "[              1.0,               1.0]])"
      ]
     },
     "execution_count": 4,
     "metadata": {},
     "output_type": "execute_result"
    }
   ],
   "source": [
    "# should be 0\n",
    "a = K * shp - M * shp * om2\n",
    "a.simplify()\n",
    "a\n",
    "\n",
    "# mode shapes\n",
    "shp.evalf() #[phi1 phi2]"
   ]
  },
  {
   "cell_type": "code",
   "execution_count": 5,
   "metadata": {},
   "outputs": [
    {
     "data": {
      "text/latex": [
       "$\\displaystyle \\left[\\begin{matrix}1.38196601125011 & 0\\\\0 & 3.61803398874989\\end{matrix}\\right]$"
      ],
      "text/plain": [
       "Matrix([\n",
       "[1.38196601125011,                0],\n",
       "[               0, 3.61803398874989]])"
      ]
     },
     "execution_count": 5,
     "metadata": {},
     "output_type": "execute_result"
    }
   ],
   "source": [
    "# natural circular frequencies\n",
    "(om2*m/k).evalf()"
   ]
  },
  {
   "cell_type": "code",
   "execution_count": 2,
   "metadata": {},
   "outputs": [
    {
     "data": {
      "text/latex": [
       "$\\displaystyle \\left[\\begin{matrix}- \\frac{v_{21}}{v_{11} v_{22} - v_{12} v_{21}} + \\frac{v_{22} \\left(-0.5 + \\frac{\\sqrt{5}}{2}\\right)}{v_{11} v_{22} - v_{12} v_{21}}\\\\\\frac{v_{11}}{v_{11} v_{22} - v_{12} v_{21}} - \\frac{v_{12} \\left(-0.5 + \\frac{\\sqrt{5}}{2}\\right)}{v_{11} v_{22} - v_{12} v_{21}}\\\\0\\\\0\\end{matrix}\\right]$"
      ],
      "text/plain": [
       "Matrix([\n",
       "[-v21/(v11*v22 - v12*v21) + v22*(-0.5 + sqrt(5)/2)/(v11*v22 - v12*v21)],\n",
       "[ v11/(v11*v22 - v12*v21) - v12*(-0.5 + sqrt(5)/2)/(v11*v22 - v12*v21)],\n",
       "[                                                                    0],\n",
       "[                                                                    0]])"
      ]
     },
     "execution_count": 2,
     "metadata": {},
     "output_type": "execute_result"
    }
   ],
   "source": [
    "# For the 2 DOF system, solve the initial value problem\n",
    "# the general solution is\n",
    "# u(t) = [u1,u2]\n",
    "# = (Acw1t + Bsw1t)[v11,v12]\n",
    "# + (Ccw2t + Dsw2t)[v21,v22]\n",
    "\n",
    "# Where v11, v12 are the mode shape for mode 1\n",
    "# v21, v22 are the mode shape for mode 2\n",
    "\n",
    "from sympy import *\n",
    "\n",
    "# the initial conditions\n",
    "I,M = symbols('I M')\n",
    "u0=Matrix([-0.5+sqrt(5)/2,1])\n",
    "ud0=Matrix([0,0])\n",
    "\n",
    "# --------------------------------------------------\n",
    "v11,v12,v21,v22 = symbols('v(1:3)(1:3)')\n",
    "om1,om2 = symbols('omega1:3')\n",
    "\n",
    "Phi = Matrix([[v11,v21],[v12,v22]])\n",
    "Phi\n",
    "\n",
    "Om = diag(om1,om2)\n",
    "\n",
    "\n",
    "A = diag(Phi, Phi*Om)\n",
    "V = Matrix.vstack(u0,ud0)\n",
    "\n",
    "(A**-1) * V"
   ]
  },
  {
   "cell_type": "code",
   "execution_count": 1,
   "metadata": {},
   "outputs": [
    {
     "data": {
      "text/latex": [
       "$\\displaystyle \\left[\\begin{matrix}20.5902777777778 & -17.7777777777778 & 0\\\\-17.7777777777778 & 26.6666666666667 & -8.88888888888889\\\\0 & -8.88888888888889 & 8.88888888888889\\end{matrix}\\right]$"
      ],
      "text/plain": [
       "Matrix([\n",
       "[ 20.5902777777778, -17.7777777777778,                 0],\n",
       "[-17.7777777777778,  26.6666666666667, -8.88888888888889],\n",
       "[                0, -8.88888888888889,  8.88888888888889]])"
      ]
     },
     "execution_count": 1,
     "metadata": {},
     "output_type": "execute_result"
    }
   ],
   "source": [
    "# Q3\n",
    "from sympy import *\n",
    "EI=Integer(20e6) #Nm2\n",
    "\n",
    "m0=Integer(20e3) #kg\n",
    "\n",
    "M=m0*diag(1,1,0.25)\n",
    "M*1e-3 #M in t\n",
    "\n",
    "k1=Rational(6*1.5*EI,4**3)\n",
    "k1\n",
    "\n",
    "k2=Rational(24*EI,3**3);k2\n",
    "\n",
    "k3=k2/2;k3\n",
    "\n",
    "# -------------------------------------\n",
    "K=Matrix([\n",
    "    [k1+k2,-k2,0],\n",
    "    [-k2,k2+k3,-k3],\n",
    "    [0,-k3,k3]\n",
    "          ])\n",
    "K/(1e6) #K in MN/m"
   ]
  },
  {
   "cell_type": "code",
   "execution_count": 6,
   "metadata": {},
   "outputs": [
    {
     "data": {
      "text/latex": [
       "$\\displaystyle \\left[\\begin{matrix}42046.0\\\\-1036.0\\\\288.0\\end{matrix}\\right]$"
      ],
      "text/plain": [
       "Matrix([\n",
       "[42046.0],\n",
       "[-1036.0],\n",
       "[  288.0]])"
      ]
     },
     "execution_count": 6,
     "metadata": {},
     "output_type": "execute_result"
    }
   ],
   "source": [
    "# (c) calculate three base shear\n",
    "\n",
    "phis= Matrix([\n",
    "    [0.8856,-0.5155,0.2738],\n",
    "    [0.9667,0.2137,-0.5094],\n",
    "    [1,1,1]\n",
    "])\n",
    "\n",
    "import numpy as np\n",
    "from numpy import array\n",
    "def to_a(x):\n",
    "    return array(x,dtype=float)\n",
    "\n",
    "Lh=phis.T * M * ones(3,1);Lh"
   ]
  },
  {
   "cell_type": "code",
   "execution_count": 7,
   "metadata": {},
   "outputs": [
    {
     "data": {
      "text/plain": [
       "array([1.76786612e+09, 1.07329600e+06, 8.29440000e+04])"
      ]
     },
     "execution_count": 7,
     "metadata": {},
     "output_type": "execute_result"
    }
   ],
   "source": [
    "# turn to numpy\n",
    "Lh2 = to_a([x.evalf()**2 for x in Lh])\n",
    "Lh2"
   ]
  },
  {
   "cell_type": "code",
   "execution_count": 8,
   "metadata": {},
   "outputs": [
    {
     "data": {
      "text/plain": [
       "array([39375.925 , 11228.1588, 11689.096 ])"
      ]
     },
     "execution_count": 8,
     "metadata": {},
     "output_type": "execute_result"
    }
   ],
   "source": [
    "Mn=phis.T * M * phis #Mn\n",
    "Mn=to_a(Matrix.diagonal(Mn)) #get the diagonal elements\n",
    "Mn=Mn.flatten()\n",
    "Mn"
   ]
  },
  {
   "cell_type": "code",
   "execution_count": 9,
   "metadata": {},
   "outputs": [
    {
     "data": {
      "text/plain": [
       "array([4.48971323e+04, 9.55896705e+01, 7.09584385e+00])"
      ]
     },
     "execution_count": 9,
     "metadata": {},
     "output_type": "execute_result"
    }
   ],
   "source": [
    "Meff= Lh2/Mn               # effective mass (kg)\n",
    "Meff"
   ]
  },
  {
   "cell_type": "code",
   "execution_count": 11,
   "metadata": {},
   "outputs": [
    {
     "data": {
      "text/plain": [
       "array([9.97714052e+01, 2.12421490e-01, 1.57685419e-02])"
      ]
     },
     "execution_count": 11,
     "metadata": {},
     "output_type": "execute_result"
    }
   ],
   "source": [
    "100 * Meff/(2.25 * 20e3)"
   ]
  },
  {
   "cell_type": "code",
   "execution_count": 12,
   "metadata": {},
   "outputs": [
    {
     "data": {
      "text/plain": [
       "array([1.32132260e+05, 9.37734668e+01, 6.96102282e+00])"
      ]
     },
     "execution_count": 12,
     "metadata": {},
     "output_type": "execute_result"
    }
   ],
   "source": [
    "An=9.81* to_a([0.3,0.1,0.1])              # 读表\n",
    "Vb = Meff * An # modal base shear (N)\n",
    "Vb # three modal base shear"
   ]
  },
  {
   "cell_type": "code",
   "execution_count": 13,
   "metadata": {},
   "outputs": [
    {
     "data": {
      "text/plain": [
       "132232.99498601197"
      ]
     },
     "execution_count": 13,
     "metadata": {},
     "output_type": "execute_result"
    }
   ],
   "source": [
    "Vb.sum()"
   ]
  }
 ],
 "metadata": {
  "kernelspec": {
   "display_name": "Python 3 (ipykernel)",
   "language": "python",
   "name": "python3"
  },
  "language_info": {
   "codemirror_mode": {
    "name": "ipython",
    "version": 3
   },
   "file_extension": ".py",
   "mimetype": "text/x-python",
   "name": "python",
   "nbconvert_exporter": "python",
   "pygments_lexer": "ipython3",
   "version": "3.8.10"
  }
 },
 "nbformat": 4,
 "nbformat_minor": 4
}
