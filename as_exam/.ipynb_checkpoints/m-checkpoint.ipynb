{
 "cells": [
  {
   "cell_type": "code",
   "execution_count": 1,
   "metadata": {},
   "outputs": [
    {
     "data": {
      "text/latex": [
       "$\\displaystyle \\left(1 - \\lambda\\right)^{2} \\left(\\frac{R}{6} - \\frac{1}{6}\\right) \\left(\\lambda + 2\\right) + \\frac{1}{3}$"
      ],
      "text/plain": [
       "(1 - lambda)**2*(R/6 - 1/6)*(lambda + 2) + 1/3"
      ]
     },
     "execution_count": 1,
     "metadata": {},
     "output_type": "execute_result"
    }
   ],
   "source": [
    "from sympy import *\n",
    "la,R,Mn= symbols('lambda R M_n')\n",
    "f1 = Rational(1,3) + Rational(1,6)*(R-1)*(1-la)**2 * (2+la)\n",
    "f1"
   ]
  },
  {
   "cell_type": "code",
   "execution_count": 2,
   "metadata": {},
   "outputs": [
    {
     "data": {
      "text/latex": [
       "$\\displaystyle M_{n} \\left(R + \\lambda \\left(1 - R\\right)\\right)$"
      ],
      "text/plain": [
       "M_n*(R + lambda*(1 - R))"
      ]
     },
     "execution_count": 2,
     "metadata": {},
     "output_type": "execute_result"
    }
   ],
   "source": [
    "f2=Mn*(la*(1-R)+ R)\n",
    "f2"
   ]
  },
  {
   "cell_type": "code",
   "execution_count": 3,
   "metadata": {},
   "outputs": [
    {
     "data": {
      "text/latex": [
       "$\\displaystyle M_{n} R \\lambda - M_{n} R - M_{n} \\lambda + \\frac{R \\lambda^{3}}{6} - \\frac{R \\lambda}{2} + \\frac{R}{3} - \\frac{\\lambda^{3}}{6} + \\frac{\\lambda}{2}$"
      ],
      "text/plain": [
       "M_n*R*lambda - M_n*R - M_n*lambda + R*lambda**3/6 - R*lambda/2 + R/3 - lambda**3/6 + lambda/2"
      ]
     },
     "execution_count": 3,
     "metadata": {},
     "output_type": "execute_result"
    }
   ],
   "source": [
    "e = f1-f2\n",
    "e = expand(e)\n",
    "e"
   ]
  },
  {
   "cell_type": "code",
   "execution_count": 4,
   "metadata": {},
   "outputs": [
    {
     "data": {
      "text/latex": [
       "$\\displaystyle M_{n} R \\lambda - M_{n} R - M_{n} \\lambda + \\frac{R \\lambda^{3}}{6} - \\frac{R \\lambda}{2} + \\frac{R}{3} - \\frac{\\lambda^{3}}{6} + \\frac{\\lambda}{2}$"
      ],
      "text/plain": [
       "M_n*R*lambda - M_n*R - M_n*lambda + R*lambda**3/6 - R*lambda/2 + R/3 - lambda**3/6 + lambda/2"
      ]
     },
     "execution_count": 4,
     "metadata": {},
     "output_type": "execute_result"
    }
   ],
   "source": [
    "e.simplify()\n",
    "e"
   ]
  },
  {
   "cell_type": "code",
   "execution_count": 5,
   "metadata": {},
   "outputs": [
    {
     "data": {
      "text/latex": [
       "$\\displaystyle - M_{n} \\lambda + R \\left(M_{n} \\lambda - M_{n} + \\frac{\\lambda^{3}}{6} - \\frac{\\lambda}{2} + \\frac{1}{3}\\right) - \\frac{\\lambda^{3}}{6} + \\frac{\\lambda}{2}$"
      ],
      "text/plain": [
       "-M_n*lambda + R*(M_n*lambda - M_n + lambda**3/6 - lambda/2 + 1/3) - lambda**3/6 + lambda/2"
      ]
     },
     "execution_count": 5,
     "metadata": {},
     "output_type": "execute_result"
    }
   ],
   "source": [
    "collect(e,R)"
   ]
  },
  {
   "cell_type": "code",
   "execution_count": 6,
   "metadata": {},
   "outputs": [
    {
     "data": {
      "text/latex": [
       "$\\displaystyle - M_{n} R + \\frac{R}{3} + \\lambda^{3} \\left(\\frac{R}{6} - \\frac{1}{6}\\right) + \\lambda \\left(M_{n} R - M_{n} - \\frac{R}{2} + \\frac{1}{2}\\right)$"
      ],
      "text/plain": [
       "-M_n*R + R/3 + lambda**3*(R/6 - 1/6) + lambda*(M_n*R - M_n - R/2 + 1/2)"
      ]
     },
     "execution_count": 6,
     "metadata": {},
     "output_type": "execute_result"
    }
   ],
   "source": [
    "collect(e,la)"
   ]
  },
  {
   "cell_type": "code",
   "execution_count": null,
   "metadata": {},
   "outputs": [],
   "source": [
    "m1,L,x=symbols('m1 L x')\n",
    "e=m1- (x-L)*(x+L)\n",
    "expand(e)"
   ]
  }
 ],
 "metadata": {
  "kernelspec": {
   "display_name": "Python 3 (ipykernel)",
   "language": "python",
   "name": "python3"
  },
  "language_info": {
   "codemirror_mode": {
    "name": "ipython",
    "version": 3
   },
   "file_extension": ".py",
   "mimetype": "text/x-python",
   "name": "python",
   "nbconvert_exporter": "python",
   "pygments_lexer": "ipython3",
   "version": "3.8.10"
  }
 },
 "nbformat": 4,
 "nbformat_minor": 4
}
