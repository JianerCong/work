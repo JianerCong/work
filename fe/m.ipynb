{
 "cells": [
  {
   "cell_type": "markdown",
   "metadata": {},
   "source": []
  },
  {
   "cell_type": "code",
   "execution_count": 2,
   "metadata": {},
   "outputs": [
    {
     "data": {
      "text/latex": [
       "$\\displaystyle \\left[\\begin{matrix}6 & 0 & 0\\\\-3 & 3 & 0\\\\-1 & -1 & 2\\end{matrix}\\right]$"
      ],
      "text/plain": [
       "Matrix([\n",
       "[ 6,  0, 0],\n",
       "[-3,  3, 0],\n",
       "[-1, -1, 2]])"
      ]
     },
     "execution_count": 2,
     "metadata": {},
     "output_type": "execute_result"
    }
   ],
   "source": [
    "# Get the K for triangle (0,0)--(a,0)--(0,b)\n",
    "from sympy import *\n",
    "a,b = symbols('a b')\n",
    "A = Matrix([\n",
    "    [1,0,0],\n",
    "    [1,2,0],\n",
    "    [1,1,3]\n",
    "])\n",
    "Ai = A ** -1\n",
    "Ai = Ai * det(A)\n",
    "Ai"
   ]
  },
  {
   "cell_type": "code",
   "execution_count": 15,
   "metadata": {},
   "outputs": [
    {
     "data": {
      "text/latex": [
       "$\\displaystyle \\frac{2 c}{3}$"
      ],
      "text/plain": [
       "2*c/3"
      ]
     },
     "execution_count": 15,
     "metadata": {},
     "output_type": "execute_result"
    }
   ],
   "source": [
    "Ai2 = A** -1\n",
    "x,y,c = symbols('x y c')\n",
    "Ai2\n",
    "Ns = Matrix([1,x,y]).T * Ai2\n",
    "Ns\n",
    "integrate(Ns[0].subs(y,0) * c*x, (x,0,2))"
   ]
  },
  {
   "cell_type": "code",
   "execution_count": 13,
   "metadata": {},
   "outputs": [
    {
     "data": {
      "text/latex": [
       "$\\displaystyle \\frac{4 c}{3}$"
      ],
      "text/plain": [
       "4*c/3"
      ]
     },
     "execution_count": 13,
     "metadata": {},
     "output_type": "execute_result"
    }
   ],
   "source": [
    "integrate(Ns[1].subs(y,0) * c*x, (x,0,2))"
   ]
  },
  {
   "cell_type": "code",
   "execution_count": 14,
   "metadata": {},
   "outputs": [
    {
     "data": {
      "text/latex": [
       "$\\displaystyle 0$"
      ],
      "text/plain": [
       "0"
      ]
     },
     "execution_count": 14,
     "metadata": {},
     "output_type": "execute_result"
    }
   ],
   "source": [
    "integrate(Ns[2].subs(y,0) * c*x, (x,0,2))"
   ]
  },
  {
   "cell_type": "code",
   "execution_count": 4,
   "metadata": {},
   "outputs": [
    {
     "data": {
      "text/latex": [
       "$\\displaystyle \\left[\\begin{matrix}9 & -9 & 0\\\\-9 & 9 & 0\\\\0 & 0 & 0\\end{matrix}\\right]$"
      ],
      "text/plain": [
       "Matrix([\n",
       "[ 9, -9, 0],\n",
       "[-9,  9, 0],\n",
       "[ 0,  0, 0]])"
      ]
     },
     "execution_count": 4,
     "metadata": {},
     "output_type": "execute_result"
    }
   ],
   "source": [
    "be = Ai[1,:]\n",
    "ga = Ai[2,:]\n",
    "K1 = Matrix(3,3,lambda i,j : be[i]*be[j])\n",
    "K1"
   ]
  },
  {
   "cell_type": "code",
   "execution_count": 5,
   "metadata": {
    "scrolled": true
   },
   "outputs": [
    {
     "data": {
      "text/latex": [
       "$\\displaystyle \\left[\\begin{matrix}1 & 1 & -2\\\\1 & 1 & -2\\\\-2 & -2 & 4\\end{matrix}\\right]$"
      ],
      "text/plain": [
       "Matrix([\n",
       "[ 1,  1, -2],\n",
       "[ 1,  1, -2],\n",
       "[-2, -2,  4]])"
      ]
     },
     "execution_count": 5,
     "metadata": {},
     "output_type": "execute_result"
    }
   ],
   "source": [
    "K2 = Matrix(3,3,lambda i,j : ga[i]*ga[j])\n",
    "K2"
   ]
  },
  {
   "cell_type": "code",
   "execution_count": 8,
   "metadata": {},
   "outputs": [
    {
     "data": {
      "text/latex": [
       "$\\displaystyle \\left[\\begin{matrix}\\frac{5}{6} & - \\frac{2}{3} & - \\frac{1}{6}\\\\- \\frac{2}{3} & \\frac{5}{6} & - \\frac{1}{6}\\\\- \\frac{1}{6} & - \\frac{1}{6} & \\frac{1}{3}\\end{matrix}\\right]$"
      ],
      "text/plain": [
       "Matrix([\n",
       "[ 5/6, -2/3, -1/6],\n",
       "[-2/3,  5/6, -1/6],\n",
       "[-1/6, -1/6,  1/3]])"
      ]
     },
     "execution_count": 8,
     "metadata": {},
     "output_type": "execute_result"
    }
   ],
   "source": [
    "(K1 + K2)/(2*det(A))"
   ]
  },
  {
   "cell_type": "code",
   "execution_count": 1,
   "metadata": {},
   "outputs": [
    {
     "data": {
      "text/latex": [
       "$\\displaystyle \\left[\\begin{matrix}\\frac{2}{3} & \\frac{1}{3}\\\\\\frac{1}{3} & \\frac{2}{3}\\end{matrix}\\right]$"
      ],
      "text/plain": [
       "Matrix([\n",
       "[2/3, 1/3],\n",
       "[1/3, 2/3]])"
      ]
     },
     "execution_count": 1,
     "metadata": {},
     "output_type": "execute_result"
    }
   ],
   "source": [
    "from sympy import *\n",
    "m = symbols('m')\n",
    "A = Matrix([[2,-1],[-1,2]])\n",
    "v = Matrix([0,m])\n",
    "A ** -1"
   ]
  },
  {
   "cell_type": "code",
   "execution_count": 17,
   "metadata": {},
   "outputs": [
    {
     "data": {
      "text/latex": [
       "$\\displaystyle \\left[\\begin{matrix}0 & 0 & 0 & 0\\\\2 l & 0 & 0 & 0\\\\-4 & - 2 l & 0 & 0\\\\2 l & - \\alpha + \\frac{4 l^{2}}{3} & - 2 l & 0\\end{matrix}\\right]$"
      ],
      "text/plain": [
       "Matrix([\n",
       "[  0,                 0,    0, 0],\n",
       "[2*l,                 0,    0, 0],\n",
       "[ -4,              -2*l,    0, 0],\n",
       "[2*l, -alpha + 4*l**2/3, -2*l, 0]])"
      ]
     },
     "execution_count": 17,
     "metadata": {},
     "output_type": "execute_result"
    }
   ],
   "source": [
    "from sympy import *\n",
    "l,al = symbols('l alpha')\n",
    "a = Rational(4,3) * l**2 + al\n",
    "b = Rational(4,3) * l**2 - al\n",
    "M = diag(4,a,4,a)\n",
    "M\n",
    "M2 = Matrix([\n",
    "    [0,0,0,0],\n",
    "    [2*l,0,0,0],\n",
    "    [-4,-2*l,0,0],\n",
    "    [2*l,b,-2*l,0]\n",
    "            ])\n",
    "M2"
   ]
  },
  {
   "cell_type": "code",
   "execution_count": 30,
   "metadata": {},
   "outputs": [
    {
     "data": {
      "text/latex": [
       "$\\displaystyle \\left[\\begin{matrix}\\frac{1}{l} & \\frac{1}{2} & - \\frac{1}{l} & \\frac{1}{2}\\\\\\frac{1}{2} & \\frac{\\alpha + \\frac{4 l^{2}}{3}}{4 l} & - \\frac{1}{2} & \\frac{- \\alpha + \\frac{4 l^{2}}{3}}{4 l}\\\\- \\frac{1}{l} & - \\frac{1}{2} & \\frac{1}{l} & - \\frac{1}{2}\\\\\\frac{1}{2} & \\frac{- \\alpha + \\frac{4 l^{2}}{3}}{4 l} & - \\frac{1}{2} & \\frac{\\alpha + \\frac{4 l^{2}}{3}}{4 l}\\end{matrix}\\right]$"
      ],
      "text/plain": [
       "Matrix([\n",
       "[ 1/l,                       1/2, -1/l,                       1/2],\n",
       "[ 1/2,  (alpha + 4*l**2/3)/(4*l), -1/2, (-alpha + 4*l**2/3)/(4*l)],\n",
       "[-1/l,                      -1/2,  1/l,                      -1/2],\n",
       "[ 1/2, (-alpha + 4*l**2/3)/(4*l), -1/2,  (alpha + 4*l**2/3)/(4*l)]])"
      ]
     },
     "execution_count": 30,
     "metadata": {},
     "output_type": "execute_result"
    }
   ],
   "source": [
    "Mt = M + M2 + M2.T\n",
    "Mt = Mt / (4*l)\n",
    "Mt"
   ]
  },
  {
   "cell_type": "code",
   "execution_count": 29,
   "metadata": {},
   "outputs": [
    {
     "data": {
      "text/latex": [
       "$\\displaystyle \\left[\\begin{matrix}\\frac{1}{2 l} & \\frac{1}{2} & - \\frac{1}{2 l} & \\frac{1}{2}\\\\\\frac{1}{2} & \\frac{\\alpha}{8 l} + \\frac{2 l}{3} & - \\frac{1}{2} & - \\frac{\\alpha}{8 l} + \\frac{2 l}{3}\\\\- \\frac{1}{2 l} & - \\frac{1}{2} & \\frac{1}{2 l} & - \\frac{1}{2}\\\\\\frac{1}{2} & - \\frac{\\alpha}{8 l} + \\frac{2 l}{3} & - \\frac{1}{2} & \\frac{\\alpha}{8 l} + \\frac{2 l}{3}\\end{matrix}\\right]$"
      ],
      "text/plain": [
       "Matrix([\n",
       "[ 1/(2*l),                  1/2, -1/(2*l),                  1/2],\n",
       "[     1/2,  alpha/(8*l) + 2*l/3,     -1/2, -alpha/(8*l) + 2*l/3],\n",
       "[-1/(2*l),                 -1/2,  1/(2*l),                 -1/2],\n",
       "[     1/2, -alpha/(8*l) + 2*l/3,     -1/2,  alpha/(8*l) + 2*l/3]])"
      ]
     },
     "execution_count": 29,
     "metadata": {},
     "output_type": "execute_result"
    }
   ],
   "source": [
    "Mt1 = Mt.subs(l,2*l)\n",
    "Mt1.simplify()\n",
    "Mt1"
   ]
  },
  {
   "cell_type": "code",
   "execution_count": 31,
   "metadata": {},
   "outputs": [
    {
     "data": {
      "text/latex": [
       "$\\displaystyle \\left[\\begin{matrix}\\frac{1}{l} & \\frac{1}{2} & - \\frac{1}{l} & \\frac{1}{2}\\\\\\frac{1}{2} & \\frac{\\alpha}{4 l} + \\frac{l}{3} & - \\frac{1}{2} & - \\frac{\\alpha}{4 l} + \\frac{l}{3}\\\\- \\frac{1}{l} & - \\frac{1}{2} & \\frac{1}{l} & - \\frac{1}{2}\\\\\\frac{1}{2} & - \\frac{\\alpha}{4 l} + \\frac{l}{3} & - \\frac{1}{2} & \\frac{\\alpha}{4 l} + \\frac{l}{3}\\end{matrix}\\right]$"
      ],
      "text/plain": [
       "Matrix([\n",
       "[ 1/l,                1/2, -1/l,                1/2],\n",
       "[ 1/2,  alpha/(4*l) + l/3, -1/2, -alpha/(4*l) + l/3],\n",
       "[-1/l,               -1/2,  1/l,               -1/2],\n",
       "[ 1/2, -alpha/(4*l) + l/3, -1/2,  alpha/(4*l) + l/3]])"
      ]
     },
     "execution_count": 31,
     "metadata": {},
     "output_type": "execute_result"
    }
   ],
   "source": [
    "Mt2 = Mt\n",
    "Mt2.simplify()\n",
    "Mt2"
   ]
  },
  {
   "cell_type": "code",
   "execution_count": 32,
   "metadata": {},
   "outputs": [
    {
     "data": {
      "text/latex": [
       "$\\displaystyle \\left[\\begin{matrix}\\frac{1}{2 l} & \\frac{1}{2} & - \\frac{1}{2 l} & \\frac{1}{2} & 0 & 0\\\\\\frac{1}{2} & \\frac{\\alpha}{8 l} + \\frac{2 l}{3} & - \\frac{1}{2} & - \\frac{\\alpha}{8 l} + \\frac{2 l}{3} & 0 & 0\\\\- \\frac{1}{2 l} & - \\frac{1}{2} & \\frac{1}{2 l} & - \\frac{1}{2} & 0 & 0\\\\\\frac{1}{2} & - \\frac{\\alpha}{8 l} + \\frac{2 l}{3} & - \\frac{1}{2} & \\frac{\\alpha}{8 l} + \\frac{2 l}{3} & 0 & 0\\\\0 & 0 & 0 & 0 & 0 & 0\\\\0 & 0 & 0 & 0 & 0 & 0\\end{matrix}\\right]$"
      ],
      "text/plain": [
       "Matrix([\n",
       "[ 1/(2*l),                  1/2, -1/(2*l),                  1/2, 0, 0],\n",
       "[     1/2,  alpha/(8*l) + 2*l/3,     -1/2, -alpha/(8*l) + 2*l/3, 0, 0],\n",
       "[-1/(2*l),                 -1/2,  1/(2*l),                 -1/2, 0, 0],\n",
       "[     1/2, -alpha/(8*l) + 2*l/3,     -1/2,  alpha/(8*l) + 2*l/3, 0, 0],\n",
       "[       0,                    0,        0,                    0, 0, 0],\n",
       "[       0,                    0,        0,                    0, 0, 0]])"
      ]
     },
     "execution_count": 32,
     "metadata": {},
     "output_type": "execute_result"
    }
   ],
   "source": [
    "def make_global1(M):\n",
    "    M1 = Matrix.hstack(M,zeros(4,2))\n",
    "    M1 = Matrix.vstack(M1, zeros(2,6))\n",
    "    return M1\n",
    "\n",
    "def make_global2(M):\n",
    "    M2 = Matrix.hstack(zeros(4,2),M)\n",
    "    M2 = Matrix.vstack(zeros(2,6),M2)\n",
    "    return M2\n",
    "Mt1g = make_global1(Mt1)\n",
    "Mt2g = make_global2(Mt2)\n",
    "Mt1g"
   ]
  },
  {
   "cell_type": "code",
   "execution_count": 33,
   "metadata": {},
   "outputs": [
    {
     "data": {
      "text/latex": [
       "$\\displaystyle \\left[\\begin{matrix}0 & 0 & 0 & 0 & 0 & 0\\\\0 & 0 & 0 & 0 & 0 & 0\\\\0 & 0 & \\frac{1}{l} & \\frac{1}{2} & - \\frac{1}{l} & \\frac{1}{2}\\\\0 & 0 & \\frac{1}{2} & \\frac{\\alpha}{4 l} + \\frac{l}{3} & - \\frac{1}{2} & - \\frac{\\alpha}{4 l} + \\frac{l}{3}\\\\0 & 0 & - \\frac{1}{l} & - \\frac{1}{2} & \\frac{1}{l} & - \\frac{1}{2}\\\\0 & 0 & \\frac{1}{2} & - \\frac{\\alpha}{4 l} + \\frac{l}{3} & - \\frac{1}{2} & \\frac{\\alpha}{4 l} + \\frac{l}{3}\\end{matrix}\\right]$"
      ],
      "text/plain": [
       "Matrix([\n",
       "[0, 0,    0,                  0,    0,                  0],\n",
       "[0, 0,    0,                  0,    0,                  0],\n",
       "[0, 0,  1/l,                1/2, -1/l,                1/2],\n",
       "[0, 0,  1/2,  alpha/(4*l) + l/3, -1/2, -alpha/(4*l) + l/3],\n",
       "[0, 0, -1/l,               -1/2,  1/l,               -1/2],\n",
       "[0, 0,  1/2, -alpha/(4*l) + l/3, -1/2,  alpha/(4*l) + l/3]])"
      ]
     },
     "execution_count": 33,
     "metadata": {},
     "output_type": "execute_result"
    }
   ],
   "source": [
    "Mt2g"
   ]
  },
  {
   "cell_type": "code",
   "execution_count": 34,
   "metadata": {},
   "outputs": [
    {
     "data": {
      "text/latex": [
       "$\\displaystyle \\left[\\begin{matrix}\\frac{1}{2 l} & \\frac{1}{2} & - \\frac{1}{2 l} & \\frac{1}{2} & 0 & 0\\\\\\frac{1}{2} & \\frac{\\alpha}{8 l} + \\frac{2 l}{3} & - \\frac{1}{2} & - \\frac{\\alpha}{8 l} + \\frac{2 l}{3} & 0 & 0\\\\- \\frac{1}{2 l} & - \\frac{1}{2} & \\frac{3}{2 l} & 0 & - \\frac{1}{l} & \\frac{1}{2}\\\\\\frac{1}{2} & - \\frac{\\alpha}{8 l} + \\frac{2 l}{3} & 0 & \\frac{3 \\alpha}{8 l} + l & - \\frac{1}{2} & - \\frac{\\alpha}{4 l} + \\frac{l}{3}\\\\0 & 0 & - \\frac{1}{l} & - \\frac{1}{2} & \\frac{1}{l} & - \\frac{1}{2}\\\\0 & 0 & \\frac{1}{2} & - \\frac{\\alpha}{4 l} + \\frac{l}{3} & - \\frac{1}{2} & \\frac{\\alpha}{4 l} + \\frac{l}{3}\\end{matrix}\\right]$"
      ],
      "text/plain": [
       "Matrix([\n",
       "[ 1/(2*l),                  1/2, -1/(2*l),                  1/2,    0,                  0],\n",
       "[     1/2,  alpha/(8*l) + 2*l/3,     -1/2, -alpha/(8*l) + 2*l/3,    0,                  0],\n",
       "[-1/(2*l),                 -1/2,  3/(2*l),                    0, -1/l,                1/2],\n",
       "[     1/2, -alpha/(8*l) + 2*l/3,        0,    3*alpha/(8*l) + l, -1/2, -alpha/(4*l) + l/3],\n",
       "[       0,                    0,     -1/l,                 -1/2,  1/l,               -1/2],\n",
       "[       0,                    0,      1/2,   -alpha/(4*l) + l/3, -1/2,  alpha/(4*l) + l/3]])"
      ]
     },
     "execution_count": 34,
     "metadata": {},
     "output_type": "execute_result"
    }
   ],
   "source": [
    "Mt1g + Mt2g"
   ]
  },
  {
   "cell_type": "code",
   "execution_count": 36,
   "metadata": {},
   "outputs": [
    {
     "data": {
      "text/latex": [
       "$\\displaystyle \\left[\\begin{matrix}1 - k & -1 & 0 & 0\\\\-1 & 2 - 2 k & -1 & 0\\\\0 & -1 & 2 - 2 k & -1\\\\0 & 0 & -1 & 1 - k\\end{matrix}\\right]$"
      ],
      "text/plain": [
       "Matrix([\n",
       "[1 - k,      -1,       0,     0],\n",
       "[   -1, 2 - 2*k,      -1,     0],\n",
       "[    0,      -1, 2 - 2*k,    -1],\n",
       "[    0,       0,      -1, 1 - k]])"
      ]
     },
     "execution_count": 36,
     "metadata": {},
     "output_type": "execute_result"
    }
   ],
   "source": [
    "k = symbols('k')\n",
    "m = Matrix([\n",
    "    [1,-1,0,0],\n",
    "    [-1,2,-1,0],\n",
    "    [0,-1,2,-1],\n",
    "    [0,0,-1,1]\n",
    "])\n",
    "m\n",
    "b = diag(1,2,2,1)\n",
    "B = m - k *b\n",
    "B"
   ]
  },
  {
   "cell_type": "code",
   "execution_count": 41,
   "metadata": {},
   "outputs": [
    {
     "data": {
      "text/latex": [
       "$\\displaystyle 4 k^{3} - 16 k^{2} + 19 k - 6$"
      ],
      "text/plain": [
       "4*k**3 - 16*k**2 + 19*k - 6"
      ]
     },
     "execution_count": 41,
     "metadata": {},
     "output_type": "execute_result"
    }
   ],
   "source": [
    "e = det(B)\n",
    "e = e/k\n",
    "e = expand(e)\n",
    "e"
   ]
  },
  {
   "cell_type": "code",
   "execution_count": 42,
   "metadata": {},
   "outputs": [
    {
     "data": {
      "text/plain": [
       "[1/2, 3/2, 2]"
      ]
     },
     "execution_count": 42,
     "metadata": {},
     "output_type": "execute_result"
    }
   ],
   "source": [
    "solve(e)"
   ]
  },
  {
   "cell_type": "code",
   "execution_count": 43,
   "metadata": {},
   "outputs": [
    {
     "data": {
      "text/latex": [
       "$\\displaystyle \\left[\\begin{matrix}0.5\\\\1.5\\\\2.0\\end{matrix}\\right]$"
      ],
      "text/plain": [
       "Matrix([\n",
       "[0.5],\n",
       "[1.5],\n",
       "[2.0]])"
      ]
     },
     "execution_count": 43,
     "metadata": {},
     "output_type": "execute_result"
    }
   ],
   "source": [
    "a_out = Matrix(solve(e,k))\n",
    "a_out.evalf(2)"
   ]
  },
  {
   "cell_type": "code",
   "execution_count": 47,
   "metadata": {},
   "outputs": [
    {
     "data": {
      "text/latex": [
       "$\\displaystyle \\left[\\begin{matrix}\\sqrt{3}\\\\3\\\\2 \\sqrt{3}\\end{matrix}\\right]$"
      ],
      "text/plain": [
       "Matrix([\n",
       "[  sqrt(3)],\n",
       "[        3],\n",
       "[2*sqrt(3)]])"
      ]
     },
     "execution_count": 47,
     "metadata": {},
     "output_type": "execute_result"
    }
   ],
   "source": [
    "om = Matrix(\n",
    "    [sqrt(i) for i in a_out]\n",
    ")\n",
    "om * sqrt(6)"
   ]
  },
  {
   "cell_type": "code",
   "execution_count": 45,
   "metadata": {},
   "outputs": [
    {
     "data": {
      "text/latex": [
       "$\\displaystyle \\left[\\begin{matrix}0.707\\\\1.22\\\\1.41\\end{matrix}\\right]$"
      ],
      "text/plain": [
       "Matrix([\n",
       "[0.707],\n",
       "[ 1.22],\n",
       "[ 1.41]])"
      ]
     },
     "execution_count": 45,
     "metadata": {},
     "output_type": "execute_result"
    }
   ],
   "source": [
    "om.evalf(3)"
   ]
  }
 ],
 "metadata": {
  "kernelspec": {
   "display_name": "Python 3 (ipykernel)",
   "language": "python",
   "name": "python3"
  },
  "language_info": {
   "codemirror_mode": {
    "name": "ipython",
    "version": 3
   },
   "file_extension": ".py",
   "mimetype": "text/x-python",
   "name": "python",
   "nbconvert_exporter": "python",
   "pygments_lexer": "ipython3",
   "version": "3.8.10"
  }
 },
 "nbformat": 4,
 "nbformat_minor": 4
}
