{
 "cells": [
  {
   "cell_type": "markdown",
   "metadata": {},
   "source": []
  },
  {
   "cell_type": "code",
   "execution_count": 1,
   "metadata": {
    "scrolled": true
   },
   "outputs": [
    {
     "data": {
      "text/latex": [
       "$\\displaystyle \\left[\\begin{matrix}a_{1} + a_{2} & - a_{2}\\\\- a_{2} & a_{2}\\end{matrix}\\right]$"
      ],
      "text/plain": [
       "Matrix([\n",
       "[a1 + a2, -a2],\n",
       "[    -a2,  a2]])"
      ]
     },
     "execution_count": 1,
     "metadata": {},
     "output_type": "execute_result"
    }
   ],
   "source": [
    "from sympy import *\n",
    "a1,a2,n1,n2,f = symbols('a1 a2 n1 n2 f')\n",
    "A = Matrix([[a1+a2,-a2],[-a2,a2]])\n",
    "A"
   ]
  },
  {
   "cell_type": "code",
   "execution_count": 2,
   "metadata": {},
   "outputs": [
    {
     "data": {
      "text/latex": [
       "$\\displaystyle \\left[\\begin{matrix}n_{1} + n_{2}\\\\f + n_{2}\\end{matrix}\\right]$"
      ],
      "text/plain": [
       "Matrix([\n",
       "[n1 + n2],\n",
       "[ f + n2]])"
      ]
     },
     "execution_count": 2,
     "metadata": {},
     "output_type": "execute_result"
    }
   ],
   "source": [
    "v = Matrix([n1+n2,n2+f])\n",
    "v"
   ]
  },
  {
   "cell_type": "code",
   "execution_count": 3,
   "metadata": {},
   "outputs": [
    {
     "data": {
      "text/latex": [
       "$\\displaystyle \\left[\\begin{matrix}a_{2} \\left(f + n_{1} + 2 n_{2}\\right)\\\\a_{2} \\left(n_{1} + n_{2}\\right) + \\left(a_{1} + a_{2}\\right) \\left(f + n_{2}\\right)\\end{matrix}\\right]$"
      ],
      "text/plain": [
       "Matrix([\n",
       "[               a2*(f + n1 + 2*n2)],\n",
       "[a2*(n1 + n2) + (a1 + a2)*(f + n2)]])"
      ]
     },
     "execution_count": 3,
     "metadata": {},
     "output_type": "execute_result"
    }
   ],
   "source": [
    "U = (A ** -1) * v\n",
    "U.simplify()\n",
    "U*a1*a2"
   ]
  },
  {
   "cell_type": "code",
   "execution_count": 9,
   "metadata": {},
   "outputs": [
    {
     "data": {
      "text/latex": [
       "$\\displaystyle \\left[\\begin{matrix}\\frac{A_{2} L_{1} \\left(L_{1} b_{1} + 2 L_{2} b_{2} + 2 f\\right)}{2}\\\\\\frac{A_{2} L_{1} \\left(L_{1} b_{1} + L_{2} b_{2}\\right)}{2} + \\frac{\\left(A_{1} L_{2} + A_{2} L_{1}\\right) \\left(L_{2} b_{2} + 2 f\\right)}{2}\\end{matrix}\\right]$"
      ],
      "text/plain": [
       "Matrix([\n",
       "[                          A2*L1*(L1*b1 + 2*L2*b2 + 2*f)/2],\n",
       "[A2*L1*(L1*b1 + L2*b2)/2 + (A1*L2 + A2*L1)*(L2*b2 + 2*f)/2]])"
      ]
     },
     "execution_count": 9,
     "metadata": {},
     "output_type": "execute_result"
    }
   ],
   "source": [
    "A1,L1,A2,L2,b1,b2 = symbols('A1 L1 A2 L2 b1 b2')\n",
    "vals = [(a1, A1/L1),(a2,A2/L2),(n1,L1*b1/2),(n2,L2*b2/2)]\n",
    "U1 = U.subs(vals)\n",
    "U1.simplify()\n",
    "U2 = U1 * A1 * A2\n",
    "U2.simplify()\n",
    "U2"
   ]
  }
 ],
 "metadata": {
  "kernelspec": {
   "display_name": "Python 3 (ipykernel)",
   "language": "python",
   "name": "python3"
  },
  "language_info": {
   "codemirror_mode": {
    "name": "ipython",
    "version": 3
   },
   "file_extension": ".py",
   "mimetype": "text/x-python",
   "name": "python",
   "nbconvert_exporter": "python",
   "pygments_lexer": "ipython3",
   "version": "3.8.10"
  }
 },
 "nbformat": 4,
 "nbformat_minor": 4
}
